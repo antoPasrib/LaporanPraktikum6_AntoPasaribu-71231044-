{
 "cells": [
  {
   "cell_type": "code",
   "execution_count": 2,
   "id": "21f87473",
   "metadata": {},
   "outputs": [
    {
     "name": "stdout",
     "output_type": "stream",
     "text": [
      "Masukan angka pertama: 7\n",
      "Masukan angka kedua: 10\n",
      "7 x 10 = 10 + 10 + 10 + 10 + 10 + 10 + 10 = 70\n"
     ]
    }
   ],
   "source": [
    "def perkalian(a, b):\n",
    "    hasil = 0\n",
    "    for i in range(a):\n",
    "        hasil += b\n",
    "    return hasil\n",
    "\n",
    "x = int(input(\"Masukan angka pertama: \"))\n",
    "y = int(input(\"Masukan angka kedua: \"))\n",
    "print(f\"{x} x {y} = {' + '.join([str(y)] * x)} = {perkalian(x, y)}\")"
   ]
  },
  {
   "cell_type": "code",
   "execution_count": 4,
   "id": "b81f8a93",
   "metadata": {},
   "outputs": [
    {
     "name": "stdout",
     "output_type": "stream",
     "text": [
      "Masukkan batas bawah: 97\n",
      "Masukkan batas atas: 82\n",
      "97, 95, 93, 91, 89, 87, 85, 83, "
     ]
    }
   ],
   "source": [
    "def ganjil(bawah, atas):\n",
    "    if bawah > atas:\n",
    "        step = -1\n",
    "    else:\n",
    "        step = 1\n",
    "\n",
    "    for i in range(bawah, atas + step, step):\n",
    "        if i % 2 != 0:\n",
    "            print(i, end=\", \")\n",
    "\n",
    "bawah = int(input(\"Masukkan batas bawah: \"))\n",
    "atas = int(input(\"Masukkan batas atas: \"))\n",
    "\n",
    "ganjil(bawah, atas)"
   ]
  },
  {
   "cell_type": "code",
   "execution_count": 5,
   "id": "3586612a",
   "metadata": {},
   "outputs": [
    {
     "name": "stdout",
     "output_type": "stream",
     "text": [
      "Berapa jumlah mata kuliah?\n",
      ">> 6\n",
      "Nilai MK 1: A\n",
      "Nilai MK 2: B\n",
      "Nilai MK 3: C\n",
      "Nilai MK 4: A\n",
      "Nilai MK 5: D\n",
      "Nilai MK 6: C\n",
      "Nilai IPS anda semester ini 2.67\n"
     ]
    }
   ],
   "source": [
    "def hitung_ips():\n",
    "    jumlah_matkul = int(input(\"Berapa jumlah mata kuliah?\\n>> \"))\n",
    "    total_nilai = 0\n",
    "    sks_per_matkul = 3  \n",
    "\n",
    "    for i in range(jumlah_matkul):\n",
    "        nilai = input(f\"Nilai MK {i+1}: \").upper()\n",
    "        if nilai == 'A':\n",
    "            bobot = 4\n",
    "        elif nilai == 'B':\n",
    "            bobot = 3\n",
    "        elif nilai == 'C':\n",
    "            bobot = 2\n",
    "        elif nilai == 'D':\n",
    "            bobot = 1\n",
    "        else:\n",
    "            print(\"Nilai tidak valid, masukkan A, B, C, atau D.\")\n",
    "            return  \n",
    "        \n",
    "        total_nilai += bobot * sks_per_matkul  \n",
    "\n",
    "    total_sks = jumlah_matkul * sks_per_matkul\n",
    "    ips = total_nilai / total_sks  # Menghitung IPS\n",
    "    print(f\"Nilai IPS anda semester ini {ips:.2f}\")\n",
    "\n",
    "hitung_ips()"
   ]
  },
  {
   "cell_type": "code",
   "execution_count": null,
   "id": "01a181ce",
   "metadata": {},
   "outputs": [],
   "source": []
  }
 ],
 "metadata": {
  "kernelspec": {
   "display_name": "Python 3 (ipykernel)",
   "language": "python",
   "name": "python3"
  },
  "language_info": {
   "codemirror_mode": {
    "name": "ipython",
    "version": 3
   },
   "file_extension": ".py",
   "mimetype": "text/x-python",
   "name": "python",
   "nbconvert_exporter": "python",
   "pygments_lexer": "ipython3",
   "version": "3.11.5"
  }
 },
 "nbformat": 4,
 "nbformat_minor": 5
}
